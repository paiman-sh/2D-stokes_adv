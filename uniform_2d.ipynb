{
 "cells": [
  {
   "cell_type": "code",
   "execution_count": 2,
   "id": "eab74689",
   "metadata": {},
   "outputs": [],
   "source": [
    "import dolfin as df"
   ]
  },
  {
   "cell_type": "code",
   "execution_count": 3,
   "id": "a72f1430",
   "metadata": {},
   "outputs": [],
   "source": [
    "# Define dimensions of the cubic domain\n",
    "length_x = 0.01\n",
    "length_y = 1\n",
    "length_z = 1\n",
    "\n",
    "# Define the number of elements in each dimension\n",
    "num_elements_x = 1  # Number of elements in x-direction\n",
    "num_elements_y = 20  # Number of elements in y-direction\n",
    "num_elements_z = 20  # Number of elements in z-direction\n",
    "\n",
    "# Create the mesh\n",
    "mesh = df.BoxMesh(df.Point(0, 0, 0), df.Point(length_x, length_y, length_z), num_elements_x, num_elements_y, num_elements_z)\n",
    "\n",
    "# Save the mesh in VTK format\n",
    "with df.HDF5File(mesh.mpi_comm(), 'mesh/'+\"mesh.h5\", \"w\") as h5f:\n",
    "    h5f.write(mesh, \"mesh\")"
   ]
  },
  {
   "cell_type": "code",
   "execution_count": 4,
   "id": "ad3e71fd",
   "metadata": {},
   "outputs": [],
   "source": [
    "V = df.VectorFunctionSpace(mesh, 'P', 2)"
   ]
  },
  {
   "cell_type": "code",
   "execution_count": 5,
   "id": "630aec1d",
   "metadata": {},
   "outputs": [],
   "source": [
    "downward_velocity = df.Constant((0.0, 0.0, -1.0))"
   ]
  },
  {
   "cell_type": "code",
   "execution_count": 6,
   "id": "5487f895",
   "metadata": {},
   "outputs": [],
   "source": [
    "u = df.Function(V)\n",
    "u.assign(downward_velocity)"
   ]
  },
  {
   "cell_type": "code",
   "execution_count": 7,
   "id": "c102fb46",
   "metadata": {},
   "outputs": [],
   "source": [
    "with df.HDF5File(mesh.mpi_comm(), \"velocity/v_hdffive.h5\", \"w\") as h5f:\n",
    "    h5f.write(u, \"u\")"
   ]
  },
  {
   "cell_type": "code",
   "execution_count": 8,
   "id": "2568b422",
   "metadata": {},
   "outputs": [],
   "source": [
    "# Create XDMF files for visualization output\n",
    "xdmffile_u = df.XDMFFile('velocity/v_show.xdmf')\n",
    "xdmffile_u.parameters[\"flush_output\"] = True\n",
    "# Save solution to file (XDMF/HDF5)\n",
    "xdmffile_u.write(u)"
   ]
  },
  {
   "cell_type": "code",
   "execution_count": 9,
   "id": "873419cd",
   "metadata": {},
   "outputs": [],
   "source": [
    "with df.HDF5File(mesh.mpi_comm(), \"velocity/v_hdffive.h5\", \"w\") as h5f:\n",
    "    h5f.write(u, \"u\")"
   ]
  },
  {
   "cell_type": "code",
   "execution_count": null,
   "id": "2d4473d7",
   "metadata": {},
   "outputs": [],
   "source": []
  },
  {
   "cell_type": "code",
   "execution_count": null,
   "id": "28e0d644",
   "metadata": {},
   "outputs": [],
   "source": []
  },
  {
   "cell_type": "code",
   "execution_count": null,
   "id": "79d350df",
   "metadata": {},
   "outputs": [],
   "source": []
  },
  {
   "cell_type": "code",
   "execution_count": null,
   "id": "b3b3de74",
   "metadata": {},
   "outputs": [],
   "source": []
  }
 ],
 "metadata": {
  "kernelspec": {
   "display_name": "Python 3 (ipykernel)",
   "language": "python",
   "name": "python3"
  },
  "language_info": {
   "codemirror_mode": {
    "name": "ipython",
    "version": 3
   },
   "file_extension": ".py",
   "mimetype": "text/x-python",
   "name": "python",
   "nbconvert_exporter": "python",
   "pygments_lexer": "ipython3",
   "version": "3.8.10"
  }
 },
 "nbformat": 4,
 "nbformat_minor": 5
}
