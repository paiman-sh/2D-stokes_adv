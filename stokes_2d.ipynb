{
 "cells": [
  {
   "cell_type": "code",
   "execution_count": 8,
   "id": "eab74689",
   "metadata": {},
   "outputs": [],
   "source": [
    "from dolfin import *\n",
    "import dolfin as df\n",
    "from fenics import *"
   ]
  },
  {
   "cell_type": "code",
   "execution_count": 16,
   "id": "8f97937f",
   "metadata": {},
   "outputs": [],
   "source": [
    "# Test for PETSc or Tpetra\n",
    "if not has_linear_algebra_backend(\"PETSc\") and not has_linear_algebra_backend(\"Tpetra\"):\n",
    "    info(\"DOLFIN has not been configured with Trilinos or PETSc. Exiting.\")\n",
    "    exit()\n",
    "\n",
    "if not has_krylov_solver_preconditioner(\"amg\"):\n",
    "    info(\"Sorry, this demo is only available when DOLFIN is compiled with AMG \"\n",
    "         \"preconditioner, Hypre or ML.\")\n",
    "    exit()\n",
    "\n",
    "if has_krylov_solver_method(\"minres\"):\n",
    "    krylov_method = \"minres\"\n",
    "elif has_krylov_solver_method(\"tfqmr\"):\n",
    "    krylov_method = \"tfqmr\"\n",
    "else:\n",
    "    info(\"Default linear algebra backend was not compiled with MINRES or TFQMR \"\n",
    "         \"Krylov subspace method. Terminating.\")\n",
    "    exit()"
   ]
  },
  {
   "cell_type": "code",
   "execution_count": 17,
   "id": "a72f1430",
   "metadata": {},
   "outputs": [],
   "source": [
    "# Define dimensions of the cubic domain\n",
    "length_x = 0.01\n",
    "length_y = 1\n",
    "length_z = 1\n",
    "\n",
    "# Define the number of elements in each dimension\n",
    "num_elements_x = 1  # Number of elements in x-direction\n",
    "num_elements_y = 100  # Number of elements in y-direction\n",
    "num_elements_z = 100  # Number of elements in z-direction\n",
    "\n",
    "# Create the mesh\n",
    "mesh = BoxMesh(Point(0, 0, 0), Point(length_x, length_y, length_z), num_elements_x, num_elements_y, num_elements_z)\n",
    "\n",
    "# Save the mesh in VTK format\n",
    "with df.HDF5File(mesh.mpi_comm(), 'mesh/'+\"mesh.h5\", \"w\") as h5f:\n",
    "    h5f.write(mesh, \"mesh\")"
   ]
  },
  {
   "cell_type": "code",
   "execution_count": 18,
   "id": "ad3e71fd",
   "metadata": {},
   "outputs": [],
   "source": [
    "V = VectorFunctionSpace(mesh, 'P', 1)"
   ]
  },
  {
   "cell_type": "code",
   "execution_count": 19,
   "id": "630aec1d",
   "metadata": {},
   "outputs": [],
   "source": [
    "u = Expression(('0', '0', '-1'), degree=1)"
   ]
  },
  {
   "cell_type": "code",
   "execution_count": 20,
   "id": "5487f895",
   "metadata": {},
   "outputs": [],
   "source": [
    "u = interpolate(u, V)"
   ]
  },
  {
   "cell_type": "code",
   "execution_count": 21,
   "id": "c102fb46",
   "metadata": {},
   "outputs": [],
   "source": [
    "with HDF5File(mesh.mpi_comm(), \"velocity/v_hdffive.h5\", \"w\") as h5f:\n",
    "    h5f.write(u, \"u\")"
   ]
  },
  {
   "cell_type": "code",
   "execution_count": 22,
   "id": "2568b422",
   "metadata": {},
   "outputs": [],
   "source": [
    "# Create XDMF files for visualization output\n",
    "xdmffile_u = XDMFFile('velocity/v_show.xdmf')\n",
    "xdmffile_u.parameters[\"flush_output\"] = True\n",
    "# Save solution to file (XDMF/HDF5)\n",
    "xdmffile_u.write(u)"
   ]
  },
  {
   "cell_type": "code",
   "execution_count": null,
   "id": "79d350df",
   "metadata": {},
   "outputs": [],
   "source": []
  },
  {
   "cell_type": "code",
   "execution_count": null,
   "id": "b3b3de74",
   "metadata": {},
   "outputs": [],
   "source": []
  }
 ],
 "metadata": {
  "kernelspec": {
   "display_name": "Python 3 (ipykernel)",
   "language": "python",
   "name": "python3"
  },
  "language_info": {
   "codemirror_mode": {
    "name": "ipython",
    "version": 3
   },
   "file_extension": ".py",
   "mimetype": "text/x-python",
   "name": "python",
   "nbconvert_exporter": "python",
   "pygments_lexer": "ipython3",
   "version": "3.8.10"
  }
 },
 "nbformat": 4,
 "nbformat_minor": 5
}
